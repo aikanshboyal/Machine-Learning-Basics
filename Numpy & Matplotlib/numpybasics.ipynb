{
 "cells": [
  {
   "cell_type": "code",
   "execution_count": 1,
   "id": "fce808b1-0c8b-4077-887e-008f7e01709c",
   "metadata": {},
   "outputs": [],
   "source": [
    "import numpy as np\n",
    "import matplotlib.pyplot as plt"
   ]
  },
  {
   "cell_type": "code",
   "execution_count": 2,
   "id": "fa0d411b-bd60-4fce-b3da-75b3b991981b",
   "metadata": {},
   "outputs": [
    {
     "data": {
      "text/plain": [
       "0.18580229112908542"
      ]
     },
     "execution_count": 2,
     "metadata": {},
     "output_type": "execute_result"
    }
   ],
   "source": [
    "np.random.random()"
   ]
  },
  {
   "cell_type": "code",
   "execution_count": 3,
   "id": "e46c3e6b-65b2-472d-b710-d668cbd820bb",
   "metadata": {},
   "outputs": [
    {
     "data": {
      "text/plain": [
       "array([1, 5, 7, 3, 3, 4, 7, 2, 9, 3, 7, 5, 8, 7, 5, 9, 8, 3, 8, 9])"
      ]
     },
     "execution_count": 3,
     "metadata": {},
     "output_type": "execute_result"
    }
   ],
   "source": [
    "np.random.randint(0, 10, 20)"
   ]
  },
  {
   "cell_type": "code",
   "execution_count": 4,
   "id": "dcb4785d-eba2-469b-8178-d6cd48523ee2",
   "metadata": {},
   "outputs": [
    {
     "data": {
      "text/plain": [
       "array([[5, 1, 5, 9, 5],\n",
       "       [4, 0, 7, 0, 4],\n",
       "       [0, 7, 9, 1, 9],\n",
       "       [4, 6, 9, 6, 1]])"
      ]
     },
     "execution_count": 4,
     "metadata": {},
     "output_type": "execute_result"
    }
   ],
   "source": [
    "np.random.randint(0, 10, 20).reshape(4,5)"
   ]
  },
  {
   "cell_type": "code",
   "execution_count": 5,
   "id": "28f38cd5-8925-4eb9-9546-a291cd93fce1",
   "metadata": {},
   "outputs": [],
   "source": [
    "a = np.random.randint(0, 10, size=(2, 3, 4))"
   ]
  },
  {
   "cell_type": "code",
   "execution_count": 6,
   "id": "85a6e50c-31a5-4736-bfde-4cbecaf87190",
   "metadata": {},
   "outputs": [],
   "source": [
    "data = np.random.randn(1000)"
   ]
  },
  {
   "cell_type": "code",
   "execution_count": 7,
   "id": "eb5778d3-6161-4656-8eee-34ee24cdac21",
   "metadata": {},
   "outputs": [
    {
     "data": {
      "text/plain": [
       "-0.030501398443713565"
      ]
     },
     "execution_count": 7,
     "metadata": {},
     "output_type": "execute_result"
    }
   ],
   "source": [
    "data.mean()"
   ]
  },
  {
   "cell_type": "code",
   "execution_count": 8,
   "id": "fce383be-eba2-4bea-868f-2cc9f9ae534b",
   "metadata": {},
   "outputs": [
    {
     "data": {
      "text/plain": [
       "0.9784935695010032"
      ]
     },
     "execution_count": 8,
     "metadata": {},
     "output_type": "execute_result"
    }
   ],
   "source": [
    "data.std()"
   ]
  },
  {
   "cell_type": "code",
   "execution_count": 9,
   "id": "6dbb6a07-f041-443b-8032-cae1de69c958",
   "metadata": {},
   "outputs": [
    {
     "data": {
      "text/plain": [
       "3.625"
      ]
     },
     "execution_count": 9,
     "metadata": {},
     "output_type": "execute_result"
    }
   ],
   "source": [
    "a.mean()"
   ]
  },
  {
   "cell_type": "code",
   "execution_count": 10,
   "id": "32f478e6-4067-4abf-8af8-608c2885bb54",
   "metadata": {},
   "outputs": [
    {
     "data": {
      "text/plain": [
       "24"
      ]
     },
     "execution_count": 10,
     "metadata": {},
     "output_type": "execute_result"
    }
   ],
   "source": [
    "a.size"
   ]
  },
  {
   "cell_type": "code",
   "execution_count": 11,
   "id": "61135541-06c4-44c5-9bf0-2d4e4691ce84",
   "metadata": {},
   "outputs": [
    {
     "data": {
      "text/plain": [
       "(2, 3, 4)"
      ]
     },
     "execution_count": 11,
     "metadata": {},
     "output_type": "execute_result"
    }
   ],
   "source": [
    "a.shape"
   ]
  },
  {
   "cell_type": "code",
   "execution_count": 12,
   "id": "30299a87-42b8-4f93-8f76-4cfbb39d9220",
   "metadata": {},
   "outputs": [
    {
     "data": {
      "text/plain": [
       "array([[[9, 0, 2, 2],\n",
       "        [5, 5, 2, 6],\n",
       "        [4, 2, 3, 1]],\n",
       "\n",
       "       [[1, 2, 2, 4],\n",
       "        [6, 7, 6, 0],\n",
       "        [7, 0, 6, 5]]])"
      ]
     },
     "execution_count": 12,
     "metadata": {},
     "output_type": "execute_result"
    }
   ],
   "source": [
    "a"
   ]
  },
  {
   "cell_type": "code",
   "execution_count": 13,
   "id": "02062e5b-0881-45f0-8225-48e7ab935ad3",
   "metadata": {},
   "outputs": [],
   "source": [
    "b = np.random.randint(0, 10, size=(5, 6))"
   ]
  },
  {
   "cell_type": "code",
   "execution_count": 14,
   "id": "bb2facce-1905-4305-8bd4-3e74912cbada",
   "metadata": {},
   "outputs": [
    {
     "data": {
      "text/plain": [
       "array([[7, 2, 1, 3, 6, 1],\n",
       "       [3, 8, 9, 7, 1, 0],\n",
       "       [3, 7, 8, 4, 2, 9],\n",
       "       [0, 8, 8, 8, 9, 4],\n",
       "       [8, 0, 0, 9, 5, 3]])"
      ]
     },
     "execution_count": 14,
     "metadata": {},
     "output_type": "execute_result"
    }
   ],
   "source": [
    "b"
   ]
  },
  {
   "cell_type": "code",
   "execution_count": 15,
   "id": "323cd040-c8bc-49f1-aaac-22bc2af5d553",
   "metadata": {},
   "outputs": [
    {
     "data": {
      "text/plain": [
       "array([20, 28, 33, 37, 25])"
      ]
     },
     "execution_count": 15,
     "metadata": {},
     "output_type": "execute_result"
    }
   ],
   "source": [
    "b.sum(axis=1)"
   ]
  },
  {
   "cell_type": "code",
   "execution_count": 16,
   "id": "bb21722a-db29-4fa2-ac4c-1fdbb52ce8ed",
   "metadata": {},
   "outputs": [
    {
     "data": {
      "text/plain": [
       "array([[21, 25, 26, 31, 23, 17]])"
      ]
     },
     "execution_count": 16,
     "metadata": {},
     "output_type": "execute_result"
    }
   ],
   "source": [
    "b.sum(axis=0, keepdims=True)"
   ]
  },
  {
   "cell_type": "code",
   "execution_count": 17,
   "id": "adeb67c0-6ea0-4974-a67a-65fc31c359e8",
   "metadata": {},
   "outputs": [],
   "source": [
    "x = np.linspace(0, 2*np.pi, 100)"
   ]
  },
  {
   "cell_type": "code",
   "execution_count": 18,
   "id": "ac24a595-ff7e-453e-ba4e-3227080082d8",
   "metadata": {},
   "outputs": [],
   "source": [
    "y = np.sin(x)"
   ]
  },
  {
   "cell_type": "code",
   "execution_count": 20,
   "id": "15775bea-8557-442d-8a35-71f98e2f4b19",
   "metadata": {},
   "outputs": [
    {
     "data": {
      "text/plain": [
       "[<matplotlib.lines.Line2D at 0x1aa86816a00>]"
      ]
     },
     "execution_count": 20,
     "metadata": {},
     "output_type": "execute_result"
    },
    {
     "data": {
      "image/png": "[encoded data removed]",
      "text/plain": [
       "<Figure size 432x288 with 1 Axes>"
      ]
     },
     "metadata": {
      "needs_background": "light"
     },
     "output_type": "display_data"
    }
   ],
   "source": [
    "plt.plot(x, y)"
   ]
  },
  {
   "cell_type": "code",
   "execution_count": 22,
   "id": "18d1316b-7dc6-4b26-afb6-1713f35aa3f8",
   "metadata": {},
   "outputs": [
    {
     "data": {
      "text/plain": [
       "((100,), (100,))"
      ]
     },
     "execution_count": 22,
     "metadata": {},
     "output_type": "execute_result"
    }
   ],
   "source": [
    "x.shape, y.shape"
   ]
  },
  {
   "cell_type": "code",
   "execution_count": 23,
   "id": "4b8c2f0c-561f-4d2c-9ced-6f0536dc8978",
   "metadata": {},
   "outputs": [],
   "source": [
    "x = [9,10, 13, 17]"
   ]
  },
  {
   "cell_type": "code",
   "execution_count": 24,
   "id": "fc9be989-fb94-4e93-be3e-b5b561daed03",
   "metadata": {},
   "outputs": [],
   "source": [
    "y = [10,5, 20, 30] "
   ]
  },
  {
   "cell_type": "code",
   "execution_count": 25,
   "id": "718bda61-256c-4a02-b454-dc4fd0b66c7d",
   "metadata": {},
   "outputs": [
    {
     "data": {
      "text/plain": [
       "[<matplotlib.lines.Line2D at 0x1aa868fa730>]"
      ]
     },
     "execution_count": 25,
     "metadata": {},
     "output_type": "execute_result"
    },
    {
     "data": {
      "image/png": "[encoded data removed]",
      "text/plain": [
       "<Figure size 432x288 with 1 Axes>"
      ]
     },
     "metadata": {
      "needs_background": "light"
     },
     "output_type": "display_data"
    }
   ],
   "source": [
    "plt.plot(x,y)"
   ]
  },
  {
   "cell_type": "code",
   "execution_count": 29,
   "id": "bad575ab-2e75-4be0-b2da-2a7fa042564d",
   "metadata": {},
   "outputs": [],
   "source": [
    "#x = rcos0 y = rsin0\n",
    "r = 10"
   ]
  },
  {
   "cell_type": "code",
   "execution_count": 30,
   "id": "8a551aeb-c06a-469e-bf38-240df27b9f52",
   "metadata": {},
   "outputs": [],
   "source": [
    "theta = np.linspace(0, 2*np.pi, 200)"
   ]
  },
  {
   "cell_type": "code",
   "execution_count": 31,
   "id": "215637cd-3af6-43d4-8fcf-52f1b64dadf1",
   "metadata": {},
   "outputs": [],
   "source": [
    "x = r * np.cos(theta)"
   ]
  },
  {
   "cell_type": "code",
   "execution_count": 32,
   "id": "234a277c-e87e-4b5e-a08a-355aa825da24",
   "metadata": {},
   "outputs": [],
   "source": [
    "y = r * np.sin(theta)"
   ]
  },
  {
   "cell_type": "code",
   "execution_count": 38,
   "id": "e29b62d2-ac08-475f-808c-8bd94b80c2ff",
   "metadata": {},
   "outputs": [
    {
     "data": {
      "text/plain": [
       "[<matplotlib.lines.Line2D at 0x1aa86bc87f0>]"
      ]
     },
     "execution_count": 38,
     "metadata": {},
     "output_type": "execute_result"
    },
    {
     "data": {
      "image/png": "[encoded data removed]",
      "text/plain": [
       "<Figure size 288x288 with 1 Axes>"
      ]
     },
     "metadata": {
      "needs_background": "light"
     },
     "output_type": "display_data"
    }
   ],
   "source": [
    "plt.figure(figsize = (4,4))\n",
    "\n",
    "plt.plot(x, y)"
   ]
  },
  {
   "cell_type": "code",
   "execution_count": null,
   "id": "ca00f0ea-3786-45bc-b1af-10013e2332ae",
   "metadata": {},
   "outputs": [],
   "source": []
  }
 ],
 "metadata": {
  "kernelspec": {
   "display_name": "Python 3",
   "language": "python",
   "name": "python3"
  },
  "language_info": {
   "codemirror_mode": {
    "name": "ipython",
    "version": 3
   },
   "file_extension": ".py",
   "mimetype": "text/x-python",
   "name": "python",
   "nbconvert_exporter": "python",
   "pygments_lexer": "ipython3",
   "version": "3.8.8"
  }
 },
 "nbformat": 4,
 "nbformat_minor": 5
}
