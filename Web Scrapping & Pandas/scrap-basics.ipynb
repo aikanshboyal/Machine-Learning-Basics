{
 "cells": [
  {
   "cell_type": "code",
   "execution_count": 1,
   "id": "6d11268a-91fa-49cf-9b48-7c76073c0f6d",
   "metadata": {},
   "outputs": [],
   "source": [
    "import requests\n",
    "from bs4 import BeautifulSoup"
   ]
  },
  {
   "cell_type": "code",
   "execution_count": 2,
   "id": "ecdf49e6-f7ad-49c4-bcc3-4a6235f05230",
   "metadata": {},
   "outputs": [],
   "source": [
    "url = \"https://www.goodreads.com/quotes/tag/{}\"\n"
   ]
  },
  {
   "cell_type": "code",
   "execution_count": 3,
   "id": "8c73f8b1-6c66-4837-b0a2-41a1f6b02549",
   "metadata": {},
   "outputs": [
    {
     "data": {
      "text/plain": [
       "'https://www.goodreads.com/quotes/tag/love'"
      ]
     },
     "execution_count": 3,
     "metadata": {},
     "output_type": "execute_result"
    }
   ],
   "source": [
    "url.format(\"love\")"
   ]
  },
  {
   "cell_type": "code",
   "execution_count": 4,
   "id": "9c4d549f-ec52-47b9-afd8-219d8bc52934",
   "metadata": {},
   "outputs": [],
   "source": [
    "res  = requests.get(url)"
   ]
  },
  {
   "cell_type": "code",
   "execution_count": 5,
   "id": "89fda3aa-35d1-492b-a302-e29699180c01",
   "metadata": {},
   "outputs": [],
   "source": [
    "soup = BeautifulSoup(res.text)"
   ]
  },
  {
   "cell_type": "code",
   "execution_count": null,
   "id": "2cc58dec-d85d-4f52-894a-92c407987a9d",
   "metadata": {},
   "outputs": [],
   "source": []
  },
  {
   "cell_type": "code",
   "execution_count": 6,
   "id": "3308f081-2bac-4b6a-88d0-a653740aba13",
   "metadata": {},
   "outputs": [
    {
     "data": {
      "text/plain": [
       "<title>Popular Quotes</title>"
      ]
     },
     "execution_count": 6,
     "metadata": {},
     "output_type": "execute_result"
    }
   ],
   "source": [
    "soup.title"
   ]
  },
  {
   "cell_type": "code",
   "execution_count": 7,
   "id": "84c21893-26dc-4581-bfa4-492f08350210",
   "metadata": {},
   "outputs": [
    {
     "data": {
      "text/plain": [
       "<h1>Popular Quotes</h1>"
      ]
     },
     "execution_count": 7,
     "metadata": {},
     "output_type": "execute_result"
    }
   ],
   "source": [
    "soup.h1"
   ]
  },
  {
   "cell_type": "code",
   "execution_count": 8,
   "id": "45233916-1e14-43b1-8b30-99ee3cf5749b",
   "metadata": {},
   "outputs": [
    {
     "data": {
      "text/plain": [
       "<p>Welcome back. Just a moment while we sign you in to your Goodreads account.</p>"
      ]
     },
     "execution_count": 8,
     "metadata": {},
     "output_type": "execute_result"
    }
   ],
   "source": [
    "soup.p"
   ]
  },
  {
   "cell_type": "code",
   "execution_count": 9,
   "id": "d438d79b-a03a-44aa-bfcb-3e920aed187d",
   "metadata": {},
   "outputs": [],
   "source": [
    "links = soup.find_all(\"a\")"
   ]
  },
  {
   "cell_type": "code",
   "execution_count": null,
   "id": "1bd9cba8-7ce6-47b5-b1da-c5616a381979",
   "metadata": {},
   "outputs": [],
   "source": []
  },
  {
   "cell_type": "code",
   "execution_count": 10,
   "id": "4f84f555-f775-428b-becb-9e50cb3d71d7",
   "metadata": {},
   "outputs": [
    {
     "data": {
      "text/plain": [
       "['__add__',\n",
       " '__class__',\n",
       " '__contains__',\n",
       " '__delattr__',\n",
       " '__dir__',\n",
       " '__doc__',\n",
       " '__eq__',\n",
       " '__format__',\n",
       " '__ge__',\n",
       " '__getattribute__',\n",
       " '__getitem__',\n",
       " '__getnewargs__',\n",
       " '__gt__',\n",
       " '__hash__',\n",
       " '__init__',\n",
       " '__init_subclass__',\n",
       " '__iter__',\n",
       " '__le__',\n",
       " '__len__',\n",
       " '__lt__',\n",
       " '__mod__',\n",
       " '__mul__',\n",
       " '__ne__',\n",
       " '__new__',\n",
       " '__reduce__',\n",
       " '__reduce_ex__',\n",
       " '__repr__',\n",
       " '__rmod__',\n",
       " '__rmul__',\n",
       " '__setattr__',\n",
       " '__sizeof__',\n",
       " '__str__',\n",
       " '__subclasshook__',\n",
       " 'capitalize',\n",
       " 'casefold',\n",
       " 'center',\n",
       " 'count',\n",
       " 'encode',\n",
       " 'endswith',\n",
       " 'expandtabs',\n",
       " 'find',\n",
       " 'format',\n",
       " 'format_map',\n",
       " 'index',\n",
       " 'isalnum',\n",
       " 'isalpha',\n",
       " 'isascii',\n",
       " 'isdecimal',\n",
       " 'isdigit',\n",
       " 'isidentifier',\n",
       " 'islower',\n",
       " 'isnumeric',\n",
       " 'isprintable',\n",
       " 'isspace',\n",
       " 'istitle',\n",
       " 'isupper',\n",
       " 'join',\n",
       " 'ljust',\n",
       " 'lower',\n",
       " 'lstrip',\n",
       " 'maketrans',\n",
       " 'partition',\n",
       " 'replace',\n",
       " 'rfind',\n",
       " 'rindex',\n",
       " 'rjust',\n",
       " 'rpartition',\n",
       " 'rsplit',\n",
       " 'rstrip',\n",
       " 'split',\n",
       " 'splitlines',\n",
       " 'startswith',\n",
       " 'strip',\n",
       " 'swapcase',\n",
       " 'title',\n",
       " 'translate',\n",
       " 'upper',\n",
       " 'zfill']"
      ]
     },
     "execution_count": 10,
     "metadata": {},
     "output_type": "execute_result"
    }
   ],
   "source": [
    "dir(links[0].get(\"href\"))\n"
   ]
  },
  {
   "cell_type": "code",
   "execution_count": 11,
   "id": "08113a5a-a149-4a16-a374-d043cc468925",
   "metadata": {},
   "outputs": [],
   "source": [
    "quote_divs = soup.find_all(\"div\", attrs={\"class\" : \"quote\"})"
   ]
  },
  {
   "cell_type": "code",
   "execution_count": 12,
   "id": "8e0dfc5e-25ac-44a1-bbe8-f479b8137c1d",
   "metadata": {},
   "outputs": [],
   "source": [
    "quote_div = quote_divs[0]"
   ]
  },
  {
   "cell_type": "code",
   "execution_count": 13,
   "id": "7d6e2564-6770-4ca1-b138-4c40167981a6",
   "metadata": {},
   "outputs": [],
   "source": [
    "quoteText_div = quote_div.find_next(\"div\", attrs={\"class\" : \"quoteText\"})"
   ]
  },
  {
   "cell_type": "code",
   "execution_count": 14,
   "id": "892aefb7-e369-489a-b3d3-be8b5a0fdac9",
   "metadata": {},
   "outputs": [
    {
     "data": {
      "text/plain": [
       "<div class=\"quoteText\">\n",
       "      “Be yourself; everyone else is already taken.”\n",
       "  <br/>  ―\n",
       "  <span class=\"authorOrTitle\">\n",
       "    Oscar Wilde\n",
       "  </span>\n",
       "</div>"
      ]
     },
     "execution_count": 14,
     "metadata": {},
     "output_type": "execute_result"
    }
   ],
   "source": [
    "quoteText_div"
   ]
  },
  {
   "cell_type": "code",
   "execution_count": 15,
   "id": "16e10679-9f3d-46bf-bb59-010929effcf9",
   "metadata": {},
   "outputs": [
    {
     "data": {
      "text/plain": [
       "'“Be yourself; everyone else is already taken.”\\n    ―\\n  \\n    Oscar Wilde'"
      ]
     },
     "execution_count": 15,
     "metadata": {},
     "output_type": "execute_result"
    }
   ],
   "source": [
    "quoteText_div.text.strip()"
   ]
  },
  {
   "cell_type": "code",
   "execution_count": 16,
   "id": "601ff05a-df7a-4386-8499-0a434c2d664e",
   "metadata": {},
   "outputs": [],
   "source": [
    "striped = quoteText_div.text.strip()"
   ]
  },
  {
   "cell_type": "code",
   "execution_count": 17,
   "id": "2ea290cf-8991-4937-98ea-6bb414aeacd5",
   "metadata": {},
   "outputs": [],
   "source": [
    "striped_li = striped.split(\"\\n\")"
   ]
  },
  {
   "cell_type": "code",
   "execution_count": 18,
   "id": "4ff72cba-99d6-4139-bec6-1d7359713ed5",
   "metadata": {},
   "outputs": [],
   "source": [
    "quote = striped_li[0][1:-1]\n",
    "author = striped_li[-1].strip()"
   ]
  },
  {
   "cell_type": "code",
   "execution_count": 19,
   "id": "758243a9-a039-4e05-be62-8d9a100639e2",
   "metadata": {},
   "outputs": [
    {
     "data": {
      "text/plain": [
       "'Be yourself; everyone else is already taken.'"
      ]
     },
     "execution_count": 19,
     "metadata": {},
     "output_type": "execute_result"
    }
   ],
   "source": [
    "quote"
   ]
  },
  {
   "cell_type": "code",
   "execution_count": 20,
   "id": "6b15f70f-f6de-4479-a7e2-7fb19bc45411",
   "metadata": {},
   "outputs": [
    {
     "data": {
      "text/plain": [
       "'Oscar Wilde'"
      ]
     },
     "execution_count": 20,
     "metadata": {},
     "output_type": "execute_result"
    }
   ],
   "source": [
    "author"
   ]
  },
  {
   "cell_type": "code",
   "execution_count": 21,
   "id": "d4051217-87e4-4274-8e8b-6aaaf63fc0b2",
   "metadata": {},
   "outputs": [
    {
     "data": {
      "text/plain": [
       "<div class=\"quote\">\n",
       "<div class=\"quoteDetails\">\n",
       "<a class=\"leftAlignedImage\" href=\"/author/show/3565.Oscar_Wilde\">\n",
       "<img alt=\"Oscar Wilde\" src=\"https://images.gr-assets.com/authors/1521044377p2/3565.jpg\"/>\n",
       "</a>\n",
       "<div class=\"quoteText\">\n",
       "      “Be yourself; everyone else is already taken.”\n",
       "  <br/>  ―\n",
       "  <span class=\"authorOrTitle\">\n",
       "    Oscar Wilde\n",
       "  </span>\n",
       "</div>\n",
       "<div class=\"quoteFooter\">\n",
       "<div class=\"greyText smallText left\">\n",
       "     tags:\n",
       "       <a href=\"/quotes/tag/attributed-no-source\">attributed-no-source</a>,\n",
       "       <a href=\"/quotes/tag/be-yourself\">be-yourself</a>,\n",
       "       <a href=\"/quotes/tag/honesty\">honesty</a>,\n",
       "       <a href=\"/quotes/tag/inspirational\">inspirational</a>,\n",
       "       <a href=\"/quotes/tag/misattributed-oscar-wilde\">misattributed-oscar-wilde</a>\n",
       "</div>\n",
       "<div class=\"right\">\n",
       "<a class=\"smallText\" href=\"/quotes/19884-be-yourself-everyone-else-is-already-taken\" title=\"View this quote\">155827 likes</a>\n",
       "</div>\n",
       "</div>\n",
       "</div>\n",
       "<div class=\"action\">\n",
       "<a class=\"gr-button gr-button--small\" href=\"/user/new\" rel=\"nofollow\">Like</a>\n",
       "</div>\n",
       "</div>"
      ]
     },
     "execution_count": 21,
     "metadata": {},
     "output_type": "execute_result"
    }
   ],
   "source": [
    "quote_div"
   ]
  },
  {
   "cell_type": "code",
   "execution_count": null,
   "id": "2e5f069e-7516-4f9c-8ea3-4183e142316f",
   "metadata": {},
   "outputs": [],
   "source": []
  }
 ],
 "metadata": {
  "kernelspec": {
   "display_name": "Python 3",
   "language": "python",
   "name": "python3"
  },
  "language_info": {
   "codemirror_mode": {
    "name": "ipython",
    "version": 3
   },
   "file_extension": ".py",
   "mimetype": "text/x-python",
   "name": "python",
   "nbconvert_exporter": "python",
   "pygments_lexer": "ipython3",
   "version": "3.8.8"
  }
 },
 "nbformat": 4,
 "nbformat_minor": 5
}
